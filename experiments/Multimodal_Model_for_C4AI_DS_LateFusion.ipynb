{
 "cells": [
  {
   "cell_type": "code",
   "execution_count": 1,
   "metadata": {
    "executionInfo": {
     "elapsed": 789,
     "status": "ok",
     "timestamp": 1642942284256,
     "user": {
      "displayName": "Victor Machado Gonzaga",
      "photoUrl": "https://lh3.googleusercontent.com/a/default-user=s64",
      "userId": "14128796530531354520"
     },
     "user_tz": 180
    },
    "id": "HPtFzLcerAXe"
   },
   "outputs": [],
   "source": [
    "import pandas as pd\n",
    "import pickle\n",
    "import numpy as np"
   ]
  },
  {
   "cell_type": "markdown",
   "metadata": {
    "id": "U9xmOUJ2BpAO"
   },
   "source": [
    "# Load dataset"
   ]
  },
  {
   "cell_type": "code",
   "execution_count": 2,
   "metadata": {
    "executionInfo": {
     "elapsed": 285,
     "status": "ok",
     "timestamp": 1642942816949,
     "user": {
      "displayName": "Victor Machado Gonzaga",
      "photoUrl": "https://lh3.googleusercontent.com/a/default-user=s64",
      "userId": "14128796530531354520"
     },
     "user_tz": 180
    },
    "id": "Oj564N61otNS"
   },
   "outputs": [],
   "source": [
    "dataset = 'pom' #@param ['iemocap', 'youtube', 'mmmo', 'moud', 'pom'] {type:\"string\"}"
   ]
  },
  {
   "cell_type": "code",
   "execution_count": 4,
   "metadata": {
    "colab": {
     "base_uri": "https://localhost:8080/"
    },
    "executionInfo": {
     "elapsed": 15233,
     "status": "ok",
     "timestamp": 1642942832917,
     "user": {
      "displayName": "Victor Machado Gonzaga",
      "photoUrl": "https://lh3.googleusercontent.com/a/default-user=s64",
      "userId": "14128796530531354520"
     },
     "user_tz": 180
    },
    "id": "v49nOpPeuS1c",
    "outputId": "9d0feaf3-cb9d-4be8-cde1-0c972a7d21b0"
   },
   "outputs": [],
   "source": [
    "X1_train = np.load(f'../data/{dataset}/X1_train.npy')\n",
    "X1_val = np.load(f'../data/{dataset}/X1_val.npy')\n",
    "X1_test = np.load(f'../data/{dataset}/X1_test.npy')\n",
    "X2_train = np.load(f'../data/{dataset}/X2_train.npy')\n",
    "X2_val = np.load(f'../data/{dataset}/X2_val.npy')\n",
    "X2_test = np.load(f'../data/{dataset}/X2_test.npy')\n",
    "y_train = np.load(f'../data/{dataset}/y_train.npy')\n",
    "y_val = np.load(f'../data/{dataset}/y_val.npy')\n",
    "y_test = np.load(f'../data/{dataset}/y_test.npy')"
   ]
  },
  {
   "cell_type": "markdown",
   "metadata": {
    "id": "KR6iwPyKLQNc"
   },
   "source": [
    "# Classificação apenas com features de imagem"
   ]
  },
  {
   "cell_type": "code",
   "execution_count": 39,
   "metadata": {
    "executionInfo": {
     "elapsed": 15,
     "status": "ok",
     "timestamp": 1642942832918,
     "user": {
      "displayName": "Victor Machado Gonzaga",
      "photoUrl": "https://lh3.googleusercontent.com/a/default-user=s64",
      "userId": "14128796530531354520"
     },
     "user_tz": 180
    },
    "id": "Kg7TG61KJRHi"
   },
   "outputs": [],
   "source": [
    "import numpy as np\n",
    "from sklearn.pipeline import make_pipeline\n",
    "from sklearn.preprocessing import StandardScaler\n",
    "from sklearn.neural_network import MLPClassifier\n",
    "\n",
    "\n",
    "def modal_image_classifier(df_data_train,df_data_test):\n",
    "  X = np.array( df_data_train['img_features'].to_list() )\n",
    "  y = np.array( df_data_train['intent'].to_list() )\n",
    "\n",
    "  clf_img = make_pipeline(StandardScaler(),MLPClassifier(random_state=1, max_iter=300))\n",
    "  clf_img.fit(X, y)\n",
    "\n",
    "  X_test = np.array( df_data_test['img_features'].to_list() )\n",
    "  y_test = np.array( df_data_test['intent'].to_list() )\n",
    "  return clf_img.score(X_test,y_test)\n"
   ]
  },
  {
   "cell_type": "markdown",
   "metadata": {
    "id": "idbrp-8hLU2v"
   },
   "source": [
    "# Classificação apenas com features textuais"
   ]
  },
  {
   "cell_type": "code",
   "execution_count": 40,
   "metadata": {
    "executionInfo": {
     "elapsed": 14,
     "status": "ok",
     "timestamp": 1642942832919,
     "user": {
      "displayName": "Victor Machado Gonzaga",
      "photoUrl": "https://lh3.googleusercontent.com/a/default-user=s64",
      "userId": "14128796530531354520"
     },
     "user_tz": 180
    },
    "id": "NreR1JkbKIhR"
   },
   "outputs": [],
   "source": [
    "import numpy as np\n",
    "from sklearn.pipeline import make_pipeline\n",
    "from sklearn.preprocessing import StandardScaler\n",
    "from sklearn.neural_network import MLPClassifier\n",
    "\n",
    "def modal_text_classifier(df_data_train,df_data_test):\n",
    "  X = np.array( df_data_train['text_features'].to_list() )\n",
    "  y = np.array( df_data_train['intent'].to_list() )\n",
    "  clf_text = make_pipeline(StandardScaler(),MLPClassifier(random_state=1, max_iter=300))\n",
    "  clf_text.fit(X, y)\n",
    "\n",
    "  X_test = np.array( df_data_test['text_features'].to_list() )\n",
    "  y_test = np.array( df_data_test['intent'].to_list() )\n",
    "  clf_text.score(X_test,y_test)"
   ]
  },
  {
   "cell_type": "markdown",
   "metadata": {
    "id": "b4N1JpOlH_Ox"
   },
   "source": [
    "# Multimodal Fusion Model"
   ]
  },
  {
   "cell_type": "code",
   "execution_count": 41,
   "metadata": {
    "executionInfo": {
     "elapsed": 13,
     "status": "ok",
     "timestamp": 1642942832919,
     "user": {
      "displayName": "Victor Machado Gonzaga",
      "photoUrl": "https://lh3.googleusercontent.com/a/default-user=s64",
      "userId": "14128796530531354520"
     },
     "user_tz": 180
    },
    "id": "ah360Fu93tso"
   },
   "outputs": [],
   "source": [
    "import tensorflow as tf\n",
    "from tensorflow.keras import layers\n",
    "from tensorflow.keras.layers import Dot,Lambda,Input, Activation, Dense, Concatenate, Dropout, GlobalAveragePooling1D\n",
    "from tensorflow.keras import Model\n",
    "from tensorflow.keras.regularizers import l1\n",
    "from tensorflow.keras.callbacks import EarlyStopping, ModelCheckpoint\n",
    " \n",
    "def autoencoder_att_labels(num_classes, size_1, size_2):\n",
    "    input_img = Input(shape=(size_1,))\n",
    "    input_txt = Input(shape=(size_2,))\n",
    "    fusion_dim = 512\n",
    " \n",
    "    im_emb = Activation('tanh')(input_img)\n",
    "    im_emb = Dense(fusion_dim, activation='tanh')(im_emb)\n",
    " \n",
    "    txt_emb = Activation('tanh')(input_txt)\n",
    "    txt_emb = Dense(fusion_dim, activation='tanh')(txt_emb)\n",
    " \n",
    "    ''' Attention Modality '''\n",
    "    #[input_1, input_2] = [visual_embd, average_seq]\n",
    "    input_1 = Lambda(lambda x: tf.keras.backend.l2_normalize(x, axis=-1))(im_emb) # (bs, ndim)\n",
    "    input_2 = Lambda(lambda x: tf.keras.backend.l2_normalize(x, axis=-1))(txt_emb) # (bs, ndim)\n",
    "    \n",
    "\n",
    "    output_size=1\n",
    "    # Step 1. Get scalar weights\n",
    "    scalar_input_1 = Dense(output_size)(input_1)  # (batch_size, output_size)\n",
    "    scalar_input_2 = Dense(output_size)(input_2)  # (batch_size, output_size)\n",
    "    scalar_input_1_exp = Lambda(lambda x: tf.keras.backend.expand_dims(x))(scalar_input_1)  # (batch_size, output_size, 1)\n",
    "    scalar_input_2_exp = Lambda(lambda x: tf.keras.backend.expand_dims(x))(scalar_input_2)  # (batch_size, output_size, 1)\n",
    "    scalars = concatenate([scalar_input_1_exp, scalar_input_2_exp], name='concat')  # (batch_size, output_size, 2)\n",
    "    \n",
    "    # # Step 2. Normalize weights - softmax\n",
    "    alphas = Activation('softmax')(scalars)  # (batch_size, output_size, 2)\n",
    "    \n",
    "    # Step 3. Weighted average\n",
    "    input_1_exp = Lambda(lambda x: tf.keras.backend.expand_dims(x))(input_1)  # (batch_size, nb_feats, 1)\n",
    "    input_2_exp = Lambda(lambda x: tf.keras.backend.expand_dims(x))(input_2)  # (batch_size, nb_feats, 1)\n",
    "    features = concatenate([input_1_exp, input_2_exp], name='concat_feats')  # (batch_size, nb_feats, 2)\n",
    " \n",
    "    latent = Dot(axes=[-1, -1])([alphas, features])  # (batch_size, output_size, nb_feats)\n",
    "    latent = tf.reduce_mean(latent, axis=1)\n",
    "    \n",
    "    encoder = Model([input_txt, input_img], [latent,alphas], name='encoder')\n",
    "    \n",
    "    clf_in = Input(shape=(fusion_dim,))\n",
    "    clf_probs = Dropout(0.4)(clf_in)\n",
    "    clf_probs = Dense(num_classes, activation='softmax')(clf_probs) # (batch_size, nb_labels)\n",
    "    clf = Model(clf_in, clf_probs, name='clf')\n",
    " \n",
    "    decoder_in = Input(shape=(fusion_dim,))\n",
    "    im_rebuild = Dense(fusion_dim, activation='tanh')(decoder_in)\n",
    "    im_rebuild = Dense(size_1, name='img_reb')(im_rebuild)\n",
    " \n",
    "    txt_rebuild = Dense(fusion_dim, activation='tanh')(decoder_in)\n",
    "    txt_rebuild = Dense(size_2, name='txt_reb')(txt_rebuild)\n",
    " \n",
    "    decoder = Model(decoder_in, outputs=[txt_rebuild,im_rebuild], name='decoder')\n",
    " \n",
    "    autoencoder = Model([input_txt, input_img], [decoder(encoder([input_txt, input_img])[0]), clf(encoder([input_txt, input_img])[0]) ] )\n",
    "\n",
    "    autoencoder.compile(optimizer=tf.keras.optimizers.Adamax(learning_rate=5e-4),\n",
    "                    loss=['mse','mse','categorical_crossentropy'],\n",
    "                    metrics=['accuracy'],\n",
    "                    loss_weights=[2.0,2.0,0.1]) # max_losses(512,512,~15) decoder_loss: 0.0021 - decoder_1_loss: 0.8902 - clf_loss: 1.8469\n",
    "\n",
    "    return clf, encoder, decoder, autoencoder"
   ]
  },
  {
   "cell_type": "code",
   "execution_count": 42,
   "metadata": {
    "executionInfo": {
     "elapsed": 12,
     "status": "ok",
     "timestamp": 1642942832919,
     "user": {
      "displayName": "Victor Machado Gonzaga",
      "photoUrl": "https://lh3.googleusercontent.com/a/default-user=s64",
      "userId": "14128796530531354520"
     },
     "user_tz": 180
    },
    "id": "HVbNFs7WSFC5"
   },
   "outputs": [],
   "source": [
    "from tensorflow.keras import backend as K\n",
    "\n",
    "def recall_m(y_true, y_pred):\n",
    "    true_positives = K.sum(K.round(K.clip(y_true * y_pred, 0, 1)))\n",
    "    possible_positives = K.sum(K.round(K.clip(y_true, 0, 1)))\n",
    "    recall = true_positives / (possible_positives + K.epsilon())\n",
    "    return recall\n",
    "\n",
    "def precision_m(y_true, y_pred):\n",
    "    true_positives = K.sum(K.round(K.clip(y_true * y_pred, 0, 1)))\n",
    "    predicted_positives = K.sum(K.round(K.clip(y_pred, 0, 1)))\n",
    "    precision = true_positives / (predicted_positives + K.epsilon())\n",
    "    return precision\n",
    "\n",
    "def f1_m(y_true, y_pred):\n",
    "    precision = precision_m(y_true, y_pred)\n",
    "    recall = recall_m(y_true, y_pred)\n",
    "    return 2*((precision*recall)/(precision+recall+K.epsilon()))"
   ]
  },
  {
   "cell_type": "code",
   "execution_count": 43,
   "metadata": {
    "executionInfo": {
     "elapsed": 12,
     "status": "ok",
     "timestamp": 1642942832920,
     "user": {
      "displayName": "Victor Machado Gonzaga",
      "photoUrl": "https://lh3.googleusercontent.com/a/default-user=s64",
      "userId": "14128796530531354520"
     },
     "user_tz": 180
    },
    "id": "X2woiRmjLl5T"
   },
   "outputs": [],
   "source": [
    "from tensorflow.keras.layers import Dot,Activation,Dense, Input, concatenate, multiply, average, subtract, add, Dropout, Lambda, Flatten\n",
    "from tensorflow.keras.models import Model\n",
    "import tensorflow as tf\n",
    "\n",
    "def clf_model(num_classes, size=256):\n",
    "    inp = Input(shape=(size))\n",
    "    x = Dense(size//2, activation='relu')(inp)\n",
    "    x = Dropout(0.5)(x)\n",
    "    x = Dense(size//4, activation='relu')(x)\n",
    "    x = Dropout(0.1)(x)\n",
    "    output = Dense(num_classes,activation='softmax')(x)\n",
    "\n",
    "    model = Model(inputs=inp, outputs=output)\n",
    "\n",
    "    model.compile(optimizer='adam', loss='categorical_crossentropy',metrics=['accuracy', f1_m])\n",
    "    return model\n",
    "\n",
    "def multimodal_text_image(X_1,X_2,num_classes,operator='concatenate',verbose=0):\n",
    "\n",
    "  # fusion_dim = X_1.shape[1]+X_2.shape[1]\n",
    "  fusion_dim = X_1.shape[1]\n",
    "\n",
    "  inp1 = Input(shape=(X_1.shape[1]))\n",
    "  inp2 = Input(shape=(X_2.shape[1]))\n",
    "\n",
    "  l1 = Dense(fusion_dim, activation='relu')(inp1)\n",
    "  l2 = Dense(fusion_dim, activation='relu')(inp2)\n",
    "  # l1 = inp1\n",
    "  # l2 = inp2\n",
    "\n",
    "  # fusion layer\n",
    "  print('------->',operator)\n",
    "  if(operator=='concatenate'):\n",
    "    w = concatenate([l1,l2])\n",
    "  if(operator=='multiply'):\n",
    "    w = multiply([l1,l2])\n",
    "  if(operator=='average'):\n",
    "    w = average([l1,l2])\n",
    "  if(operator=='subtract'):\n",
    "    w = subtract([l1,l2])\n",
    "  if(operator=='add'):\n",
    "    w = add([l1,l2])\n",
    "  if(operator=='att'):\n",
    "    visual_embd = Lambda(lambda x: tf.keras.backend.l2_normalize(x, axis=-1))(l1) # (bs, ndim)\n",
    "    average_seq = Lambda(lambda x: tf.keras.backend.l2_normalize(x, axis=-1))(l2) # (bs, ndim)\n",
    "    scalar_visual = Dense(1)(visual_embd) # (bs, 1)\n",
    "    scalar_text = Dense(1)(average_seq) # (bs, 1)\n",
    "    scalars = concatenate([scalar_visual, scalar_text], name='concat')  # (bs, 2)\n",
    "\n",
    "    # # Step 2. Normalize weights - softmax\n",
    "    alphas = Activation('softmax')(scalars) # (bs, 2)\n",
    "\n",
    "    # Step 3. Weighted average\n",
    "    visual_embd_2 = Lambda( lambda x: tf.keras.backend.expand_dims(x) ) (visual_embd) # (bs, ndim, 1)\n",
    "    average_seq_2 = Lambda( lambda x: tf.keras.backend.expand_dims(x) )(average_seq) # (bs, ndim, 1)\n",
    "    features = concatenate([visual_embd_2, average_seq_2], name='concat_feats') # (bs, ndim, 2)\n",
    "    w = Dot(axes=[-1, -1])([alphas, features]) # (bs, ndim)\n",
    "  if(operator=='att_labels'):\n",
    "    #[input_1, input_2] = [visual_embd, average_seq]\n",
    "    input_1 = Lambda(lambda x: tf.keras.backend.l2_normalize(x, axis=-1))(l1) # (bs, ndim)\n",
    "    input_2 = Lambda(lambda x: tf.keras.backend.l2_normalize(x, axis=-1))(l2) # (bs, ndim)\n",
    "    output_size=num_classes\n",
    "    # Step 1. Get scalar weights\n",
    "    scalar_input_1 = Dense(output_size)(input_1)  # (batch_size, nb_labels)\n",
    "    scalar_input_2 = Dense(output_size)(input_2)  # (batch_size, nb_labels)\n",
    "    scalar_input_1_exp = Lambda(lambda x: tf.keras.backend.expand_dims(x))(scalar_input_1)  # (batch_size, nb_labels, 1)\n",
    "    scalar_input_2_exp = Lambda(lambda x: tf.keras.backend.expand_dims(x))(scalar_input_2)  # (batch_size, nb_labels, 1)\n",
    "    scalars = concatenate([scalar_input_1_exp, scalar_input_2_exp], name='concat')  # (batch_size, nb_labels, 2)\n",
    "    \n",
    "    # # Step 2. Normalize weights - softmax\n",
    "    alphas = Activation('softmax')(scalars)  # (batch_size, nb_labels, 2)\n",
    "    \n",
    "    # Step 3. Weighted average\n",
    "    input_1_exp = Lambda(lambda x: tf.keras.backend.expand_dims(x))(input_1)  # (batch_size, nb_feats, 1)\n",
    "    input_2_exp = Lambda(lambda x: tf.keras.backend.expand_dims(x))(input_2)  # (batch_size, nb_feats, 1)\n",
    "    features = concatenate([input_1_exp, input_2_exp], name='concat_feats')  # (batch_size, nb_feats, 2)\n",
    "    w = Dot(axes=[-1, -1])([alphas, features])  # (batch_size, nb_labels, nb_feats)\n",
    "\n",
    "  w = Dropout(0.5)(w)\n",
    "  # fusion_layer = Dense(fusion_dim, activation='relu')(w)\n",
    "  fusion_layer = w\n",
    "\n",
    "  if (operator == 'att_labels'): # nm: new\n",
    "    output = Dense(1)(fusion_layer)  # (batch_size, nb_labels, 1)  \n",
    "    output = Lambda(lambda x: tf.keras.backend.squeeze(x, axis=-1))(output)  # (batch_size, nb_labels)\n",
    "    output = Activation('softmax')(output)  # (batch_size, nb_labels)    \n",
    "  else:\n",
    "    output = Dense(num_classes,activation='softmax')(fusion_layer)\n",
    "\n",
    "  model = Model(inputs=[inp1, inp2], outputs=output)\n",
    "  \n",
    "  model.compile(optimizer='adam', loss='categorical_crossentropy', metrics=['accuracy', f1_m])\n",
    "\n",
    "  model.summary()\n",
    "\n",
    "  return model, fusion_layer\n"
   ]
  },
  {
   "cell_type": "markdown",
   "metadata": {
    "id": "FWk8p5n_bLXy"
   },
   "source": [
    "### Treinando e Avaliando o Multimodal Fusion Model"
   ]
  },
  {
   "cell_type": "markdown",
   "metadata": {
    "id": "K-a5b-GjBSUy"
   },
   "source": [
    "Plot loss weights/accuracy"
   ]
  },
  {
   "cell_type": "code",
   "execution_count": 45,
   "metadata": {
    "colab": {
     "base_uri": "https://localhost:8080/",
     "height": 81,
     "referenced_widgets": [
      "9d51fbef86a44429ad4dfb31e222ad7f",
      "d20294a22fa348cfa38342ada01e358f",
      "7a2e722dff1a41269953b0b36fa48896",
      "626fd4a1d2a741d4b69c400449a33ff3",
      "b141325b94eb473289191556b56cf31c",
      "e01575d67ab44423a1e899725b7cb14f",
      "9630d54f81df4102b04741ac0aa7284a",
      "8409a6564cd7430291d38df436f20f2b",
      "6dc7cdd2dea14d77a192d336bc68d1a9",
      "18aedde64d404e388b277c45eb95ddb0",
      "f7fec05a0e094b99854f3d383006fc67",
      "626875e670fa4357ba83cb997bfd3483",
      "e2276ea0b34f4b0198aa748346d04895",
      "2901f461104442018095374dac5e29c0",
      "9b24db6cc27a4d4193cd4ad52d64457d",
      "16b0750aacd14b65bc4febe1065ed216",
      "2444f07cad0b467892415068796c6c90",
      "92f942e3ba094db49a0994bf38344b5f",
      "2adef9bf0d3346fdbb87b203052b436b",
      "cb4a00ee0656469c8768036b4f71f62f",
      "e051ac2ec69f457cbef439ba6e54a8e9",
      "5f1b5d9d19d04fac8f24ca1ec1166a34"
     ]
    },
    "executionInfo": {
     "elapsed": 63349,
     "status": "ok",
     "timestamp": 1642942898169,
     "user": {
      "displayName": "Victor Machado Gonzaga",
      "photoUrl": "https://lh3.googleusercontent.com/a/default-user=s64",
      "userId": "14128796530531354520"
     },
     "user_tz": 180
    },
    "id": "oazwkn8vW9nl",
    "outputId": "0df89468-e67e-428b-bb0a-481b93332b0f"
   },
   "outputs": [
    {
     "data": {
      "application/vnd.jupyter.widget-view+json": {
       "model_id": "9d51fbef86a44429ad4dfb31e222ad7f",
       "version_major": 2,
       "version_minor": 0
      },
      "text/plain": [
       "  0%|          | 0/1 [00:00<?, ?it/s]"
      ]
     },
     "metadata": {},
     "output_type": "display_data"
    },
    {
     "data": {
      "application/vnd.jupyter.widget-view+json": {
       "model_id": "626875e670fa4357ba83cb997bfd3483",
       "version_major": 2,
       "version_minor": 0
      },
      "text/plain": [
       "  0%|          | 0/4 [00:00<?, ?it/s]"
      ]
     },
     "metadata": {},
     "output_type": "display_data"
    }
   ],
   "source": [
    "import keras \n",
    "from tqdm.notebook import tqdm\n",
    "from keras.callbacks import EarlyStopping, ModelCheckpoint\n",
    "from sklearn.metrics import accuracy_score, roc_auc_score, f1_score\n",
    "from sklearn.ensemble import RandomForestClassifier, GradientBoostingClassifier\n",
    "from sklearn.linear_model import LogisticRegression\n",
    "from sklearn.neural_network import MLPClassifier\n",
    "from sklearn.svm import SVC\n",
    "from sklearn.naive_bayes import GaussianNB\n",
    "from sklearn.neighbors import KNeighborsClassifier\n",
    "\n",
    "dataset_fold_path = 'documentIntent_emnlp19/splits/train_split_'\n",
    "merging_layers = ['log_reg', 'rf', 'boosting', 'mlp']\n",
    "#merging_layers = ['autoencoder']\n",
    "#merging_layers = ['mlp']\n",
    "results = []\n",
    "seed = 0\n",
    "\n",
    "nb_folds = 5 # 5 | 1 (test)\n",
    "nb_runs = 1 # 11 | 2(test)\n",
    "\n",
    "for fold in tqdm(range(0,1)):\n",
    "\n",
    "  num_classes = y_train.shape[1]\n",
    "  #shuffle\n",
    "\n",
    "  for run in range(0,nb_runs):\n",
    "    #for run in range(nb_runs):\n",
    "        #tf.random.set_seed(run)\n",
    "        #for lw in lws:\n",
    "        early_stopping = EarlyStopping(monitor='val_accuracy', patience=50,restore_best_weights=True, mode='max')\n",
    "\n",
    "        # random_forest, svm, boosting, bayes, knn\n",
    "\n",
    "        # text\n",
    "\n",
    "        ## mlp\n",
    "        model_txt = clf_model(num_classes, size=X1_train.shape[1])\n",
    "        model_txt.fit(X1_train, y_train, epochs=1000,batch_size=16, verbose=0, validation_data=(X1_val, y_val), callbacks=[early_stopping])\n",
    "        probs_txt_train = model_txt.predict(X1_train)\n",
    "        probs_txt_test = model_txt.predict(X1_test) \n",
    "\n",
    "        ## rf\n",
    "        rf_txt = RandomForestClassifier()\n",
    "        rf_txt.fit(X1_train, np.argmax(y_train, axis=1))\n",
    "        probs_rf_txt_train = rf_txt.predict_proba(X1_train)\n",
    "        probs_rf_txt_test = rf_txt.predict_proba(X1_test)\n",
    "\n",
    "        ## svm\n",
    "        svm_txt = SVC(probability=True)\n",
    "        svm_txt.fit(X1_train, np.argmax(y_train, axis=1))\n",
    "        probs_svm_txt_train = svm_txt.predict_proba(X1_train)\n",
    "        probs_svm_txt_test = svm_txt.predict_proba(X1_test)\n",
    "\n",
    "        ## boosting\n",
    "        boosting_txt = GradientBoostingClassifier()\n",
    "        boosting_txt.fit(X1_train, np.argmax(y_train, axis=1))\n",
    "        probs_boosting_txt_train = boosting_txt.predict_proba(X1_train)\n",
    "        probs_boosting_txt_test = boosting_txt.predict_proba(X1_test)\n",
    "\n",
    "        ## bayes\n",
    "        nb_txt = GaussianNB()\n",
    "        nb_txt.fit(X1_train, np.argmax(y_train, axis=1))\n",
    "        probs_nb_txt_train = nb_txt.predict_proba(X1_train)\n",
    "        probs_nb_txt_test = nb_txt.predict_proba(X1_test)\n",
    "\n",
    "        ## knn\n",
    "        knn_txt = KNeighborsClassifier()\n",
    "        knn_txt.fit(X1_train, np.argmax(y_train, axis=1))\n",
    "        probs_knn_txt_train = knn_txt.predict_proba(X1_train)\n",
    "        probs_knn_txt_test = knn_txt.predict_proba(X1_test)\n",
    "\n",
    "        # image\n",
    "\n",
    "        ## mlp\n",
    "        model_im = clf_model(num_classes, size=X2_train.shape[1])\n",
    "        model_im.fit(X2_train, y_train, epochs=1000,batch_size=16, verbose=0, validation_data=(X2_val, y_val), callbacks=[early_stopping])\n",
    "        probs_im_train = model_im.predict(X2_train)\n",
    "        probs_im_test = model_im.predict(X2_test)\n",
    "\n",
    "        ## rf\n",
    "        rf_im = RandomForestClassifier()\n",
    "        rf_im.fit(X2_train, np.argmax(y_train, axis=1))\n",
    "        probs_rf_im_train = rf_im.predict_proba(X2_train)\n",
    "        probs_rf_im_test = rf_im.predict_proba(X2_test)\n",
    "\n",
    "        ## svm\n",
    "        svm_im = SVC(probability=True)\n",
    "        svm_im.fit(X2_train, np.argmax(y_train, axis=1))\n",
    "        probs_svm_im_train = svm_im.predict_proba(X2_train)\n",
    "        probs_svm_im_test = svm_im.predict_proba(X2_test)\n",
    "\n",
    "        ## boosting\n",
    "        boosting_im = GradientBoostingClassifier()\n",
    "        boosting_im.fit(X2_train, np.argmax(y_train, axis=1))\n",
    "        probs_boosting_im_train = boosting_im.predict_proba(X2_train)\n",
    "        probs_boosting_im_test = boosting_im.predict_proba(X2_test)\n",
    "\n",
    "        ## bayes\n",
    "        nb_im = GaussianNB()\n",
    "        nb_im.fit(X2_train, np.argmax(y_train, axis=1))\n",
    "        probs_nb_im_train = nb_im.predict_proba(X2_train)\n",
    "        probs_nb_im_test = nb_im.predict_proba(X2_test)\n",
    "\n",
    "        ## knn\n",
    "        knn_im = KNeighborsClassifier()\n",
    "        knn_im.fit(X2_train, np.argmax(y_train, axis=1))\n",
    "        probs_knn_im_train = knn_im.predict_proba(X2_train)\n",
    "        probs_knn_im_test = knn_im.predict_proba(X2_test)\n",
    "\n",
    "        # cat preds\n",
    "\n",
    "        X_train_ens = np.concatenate([probs_txt_train, probs_im_train, probs_rf_txt_train, probs_rf_im_train, probs_svm_txt_train, probs_svm_im_train, probs_boosting_txt_train, probs_boosting_im_train, probs_nb_txt_train, probs_nb_im_train, probs_knn_txt_train, probs_knn_im_train], axis=1)\n",
    "        X_test_ens = np.concatenate([probs_txt_test, probs_im_test,  probs_rf_txt_test, probs_rf_im_test, probs_svm_txt_test, probs_svm_im_test, probs_boosting_txt_test, probs_boosting_im_test, probs_nb_txt_test, probs_nb_im_test, probs_knn_txt_test, probs_knn_im_test], axis=1)\n",
    "        \n",
    "        for merge in tqdm(merging_layers):\n",
    "\n",
    "          probs = None\n",
    "          if merge == 'log_reg':\n",
    "            clf = LogisticRegression()\n",
    "            clf.fit(X_train_ens, np.argmax(y_train, axis=1))\n",
    "            probs = clf.predict_proba(X_test_ens)\n",
    "          elif merge == 'rf':\n",
    "            clf = RandomForestClassifier()\n",
    "            clf.fit(X_train_ens, np.argmax(y_train, axis=1))\n",
    "            probs = clf.predict_proba(X_test_ens)\n",
    "          elif merge == 'boosting':\n",
    "            clf = GradientBoostingClassifier()\n",
    "            clf.fit(X_train_ens, np.argmax(y_train, axis=1))\n",
    "            probs = clf.predict_proba(X_test_ens)\n",
    "          elif merge == 'mlp':\n",
    "            clf = MLPClassifier(max_iter=400)\n",
    "            clf.fit(X_train_ens, np.argmax(y_train, axis=1))\n",
    "            probs = clf.predict_proba(X_test_ens)\n",
    "\n",
    "          y_true = np.argmax(y_test,axis=1)\n",
    "          y_pred = np.argmax(probs,axis=1)\n",
    "\n",
    "          f1_macro = f1_score(y_true, y_pred, average='macro')\n",
    "          f1_micro = f1_score(y_true, y_pred, average='micro')\n",
    "          acc = accuracy_score(y_true, y_pred)\n",
    "          auc = roc_auc_score(y_test, probs, average='macro', multi_class='ovr')\n",
    "\n",
    "          print(fold,merge, acc,f1_micro,f1_macro,auc)\n",
    "          results.append((fold,merge, acc, f1_micro,f1_macro,auc,10.))"
   ]
  },
  {
   "cell_type": "code",
   "execution_count": 46,
   "metadata": {
    "colab": {
     "base_uri": "https://localhost:8080/",
     "height": 415
    },
    "executionInfo": {
     "elapsed": 37,
     "status": "error",
     "timestamp": 1642942898178,
     "user": {
      "displayName": "Victor Machado Gonzaga",
      "photoUrl": "https://lh3.googleusercontent.com/a/default-user=s64",
      "userId": "14128796530531354520"
     },
     "user_tz": 180
    },
    "id": "3_bh6kQAoX0O",
    "outputId": "c816cf62-f1ab-418c-e928-0f04bfcd2e9e"
   },
   "outputs": [
    {
     "ename": "ValueError",
     "evalue": "ignored",
     "output_type": "error",
     "traceback": [
      "\u001b[0;31m---------------------------------------------------------------------------\u001b[0m",
      "\u001b[0;31mValueError\u001b[0m                                Traceback (most recent call last)",
      "\u001b[0;32m<ipython-input-46-4dbcb9daf519>\u001b[0m in \u001b[0;36m<module>\u001b[0;34m()\u001b[0m\n\u001b[1;32m      1\u001b[0m \u001b[0mdf_results\u001b[0m \u001b[0;34m=\u001b[0m \u001b[0mpd\u001b[0m\u001b[0;34m.\u001b[0m\u001b[0mDataFrame\u001b[0m\u001b[0;34m(\u001b[0m\u001b[0mresults\u001b[0m\u001b[0;34m)\u001b[0m\u001b[0;34m\u001b[0m\u001b[0;34m\u001b[0m\u001b[0m\n\u001b[0;32m----> 2\u001b[0;31m \u001b[0mdf_results\u001b[0m\u001b[0;34m.\u001b[0m\u001b[0mcolumns\u001b[0m \u001b[0;34m=\u001b[0m \u001b[0;34m[\u001b[0m\u001b[0;34m'fold'\u001b[0m\u001b[0;34m,\u001b[0m\u001b[0;34m'merging'\u001b[0m\u001b[0;34m,\u001b[0m\u001b[0;34m'acc'\u001b[0m\u001b[0;34m,\u001b[0m\u001b[0;34m'f1-micro'\u001b[0m\u001b[0;34m,\u001b[0m\u001b[0;34m'f1-macro'\u001b[0m\u001b[0;34m,\u001b[0m\u001b[0;34m'auc'\u001b[0m\u001b[0;34m,\u001b[0m \u001b[0;34m'clf_weight'\u001b[0m\u001b[0;34m]\u001b[0m\u001b[0;34m\u001b[0m\u001b[0;34m\u001b[0m\u001b[0m\n\u001b[0m\u001b[1;32m      3\u001b[0m \u001b[0mdf_results\u001b[0m\u001b[0;34m\u001b[0m\u001b[0;34m\u001b[0m\u001b[0m\n\u001b[1;32m      4\u001b[0m df = df_results.groupby(['merging','fold'], as_index=False).agg(\n\u001b[1;32m      5\u001b[0m                       {'acc':['mean','std']})\n",
      "\u001b[0;32m/usr/local/lib/python3.7/dist-packages/pandas/core/generic.py\u001b[0m in \u001b[0;36m__setattr__\u001b[0;34m(self, name, value)\u001b[0m\n\u001b[1;32m   5152\u001b[0m         \u001b[0;32mtry\u001b[0m\u001b[0;34m:\u001b[0m\u001b[0;34m\u001b[0m\u001b[0;34m\u001b[0m\u001b[0m\n\u001b[1;32m   5153\u001b[0m             \u001b[0mobject\u001b[0m\u001b[0;34m.\u001b[0m\u001b[0m__getattribute__\u001b[0m\u001b[0;34m(\u001b[0m\u001b[0mself\u001b[0m\u001b[0;34m,\u001b[0m \u001b[0mname\u001b[0m\u001b[0;34m)\u001b[0m\u001b[0;34m\u001b[0m\u001b[0;34m\u001b[0m\u001b[0m\n\u001b[0;32m-> 5154\u001b[0;31m             \u001b[0;32mreturn\u001b[0m \u001b[0mobject\u001b[0m\u001b[0;34m.\u001b[0m\u001b[0m__setattr__\u001b[0m\u001b[0;34m(\u001b[0m\u001b[0mself\u001b[0m\u001b[0;34m,\u001b[0m \u001b[0mname\u001b[0m\u001b[0;34m,\u001b[0m \u001b[0mvalue\u001b[0m\u001b[0;34m)\u001b[0m\u001b[0;34m\u001b[0m\u001b[0;34m\u001b[0m\u001b[0m\n\u001b[0m\u001b[1;32m   5155\u001b[0m         \u001b[0;32mexcept\u001b[0m \u001b[0mAttributeError\u001b[0m\u001b[0;34m:\u001b[0m\u001b[0;34m\u001b[0m\u001b[0;34m\u001b[0m\u001b[0m\n\u001b[1;32m   5156\u001b[0m             \u001b[0;32mpass\u001b[0m\u001b[0;34m\u001b[0m\u001b[0;34m\u001b[0m\u001b[0m\n",
      "\u001b[0;32mpandas/_libs/properties.pyx\u001b[0m in \u001b[0;36mpandas._libs.properties.AxisProperty.__set__\u001b[0;34m()\u001b[0m\n",
      "\u001b[0;32m/usr/local/lib/python3.7/dist-packages/pandas/core/generic.py\u001b[0m in \u001b[0;36m_set_axis\u001b[0;34m(self, axis, labels)\u001b[0m\n\u001b[1;32m    562\u001b[0m     \u001b[0;32mdef\u001b[0m \u001b[0m_set_axis\u001b[0m\u001b[0;34m(\u001b[0m\u001b[0mself\u001b[0m\u001b[0;34m,\u001b[0m \u001b[0maxis\u001b[0m\u001b[0;34m:\u001b[0m \u001b[0mint\u001b[0m\u001b[0;34m,\u001b[0m \u001b[0mlabels\u001b[0m\u001b[0;34m:\u001b[0m \u001b[0mIndex\u001b[0m\u001b[0;34m)\u001b[0m \u001b[0;34m->\u001b[0m \u001b[0;32mNone\u001b[0m\u001b[0;34m:\u001b[0m\u001b[0;34m\u001b[0m\u001b[0;34m\u001b[0m\u001b[0m\n\u001b[1;32m    563\u001b[0m         \u001b[0mlabels\u001b[0m \u001b[0;34m=\u001b[0m \u001b[0mensure_index\u001b[0m\u001b[0;34m(\u001b[0m\u001b[0mlabels\u001b[0m\u001b[0;34m)\u001b[0m\u001b[0;34m\u001b[0m\u001b[0;34m\u001b[0m\u001b[0m\n\u001b[0;32m--> 564\u001b[0;31m         \u001b[0mself\u001b[0m\u001b[0;34m.\u001b[0m\u001b[0m_mgr\u001b[0m\u001b[0;34m.\u001b[0m\u001b[0mset_axis\u001b[0m\u001b[0;34m(\u001b[0m\u001b[0maxis\u001b[0m\u001b[0;34m,\u001b[0m \u001b[0mlabels\u001b[0m\u001b[0;34m)\u001b[0m\u001b[0;34m\u001b[0m\u001b[0;34m\u001b[0m\u001b[0m\n\u001b[0m\u001b[1;32m    565\u001b[0m         \u001b[0mself\u001b[0m\u001b[0;34m.\u001b[0m\u001b[0m_clear_item_cache\u001b[0m\u001b[0;34m(\u001b[0m\u001b[0;34m)\u001b[0m\u001b[0;34m\u001b[0m\u001b[0;34m\u001b[0m\u001b[0m\n\u001b[1;32m    566\u001b[0m \u001b[0;34m\u001b[0m\u001b[0m\n",
      "\u001b[0;32m/usr/local/lib/python3.7/dist-packages/pandas/core/internals/managers.py\u001b[0m in \u001b[0;36mset_axis\u001b[0;34m(self, axis, new_labels)\u001b[0m\n\u001b[1;32m    225\u001b[0m         \u001b[0;32mif\u001b[0m \u001b[0mnew_len\u001b[0m \u001b[0;34m!=\u001b[0m \u001b[0mold_len\u001b[0m\u001b[0;34m:\u001b[0m\u001b[0;34m\u001b[0m\u001b[0;34m\u001b[0m\u001b[0m\n\u001b[1;32m    226\u001b[0m             raise ValueError(\n\u001b[0;32m--> 227\u001b[0;31m                 \u001b[0;34mf\"Length mismatch: Expected axis has {old_len} elements, new \"\u001b[0m\u001b[0;34m\u001b[0m\u001b[0;34m\u001b[0m\u001b[0m\n\u001b[0m\u001b[1;32m    228\u001b[0m                 \u001b[0;34mf\"values have {new_len} elements\"\u001b[0m\u001b[0;34m\u001b[0m\u001b[0;34m\u001b[0m\u001b[0m\n\u001b[1;32m    229\u001b[0m             )\n",
      "\u001b[0;31mValueError\u001b[0m: Length mismatch: Expected axis has 0 elements, new values have 7 elements"
     ]
    }
   ],
   "source": [
    "df_results = pd.DataFrame(results)\n",
    "df_results.columns = ['fold','merging','acc','f1-micro','f1-macro','auc', 'clf_weight']\n",
    "df_results\n",
    "df = df_results.groupby(['merging','fold'], as_index=False).agg(\n",
    "                      {'acc':['mean','std']})\n",
    "df "
   ]
  },
  {
   "cell_type": "code",
   "execution_count": null,
   "metadata": {
    "executionInfo": {
     "elapsed": 6,
     "status": "aborted",
     "timestamp": 1642942898169,
     "user": {
      "displayName": "Victor Machado Gonzaga",
      "photoUrl": "https://lh3.googleusercontent.com/a/default-user=s64",
      "userId": "14128796530531354520"
     },
     "user_tz": 180
    },
    "id": "a5YfGNic348K"
   },
   "outputs": [],
   "source": [
    "df_results.sort_values(by='acc', ascending=False)[df_results.fold==0].head(50)"
   ]
  },
  {
   "cell_type": "code",
   "execution_count": null,
   "metadata": {
    "executionInfo": {
     "elapsed": 7,
     "status": "aborted",
     "timestamp": 1642942898171,
     "user": {
      "displayName": "Victor Machado Gonzaga",
      "photoUrl": "https://lh3.googleusercontent.com/a/default-user=s64",
      "userId": "14128796530531354520"
     },
     "user_tz": 180
    },
    "id": "kp43f1im4OiL"
   },
   "outputs": [],
   "source": [
    "df_results.sort_values(by='acc', ascending=False)[df_results.fold==1].head(50)"
   ]
  },
  {
   "cell_type": "code",
   "execution_count": null,
   "metadata": {
    "executionInfo": {
     "elapsed": 7,
     "status": "aborted",
     "timestamp": 1642942898171,
     "user": {
      "displayName": "Victor Machado Gonzaga",
      "photoUrl": "https://lh3.googleusercontent.com/a/default-user=s64",
      "userId": "14128796530531354520"
     },
     "user_tz": 180
    },
    "id": "pJpm86iB4Tny"
   },
   "outputs": [],
   "source": [
    "df_results.sort_values(by='acc', ascending=False)[df_results.fold==2].head(50)"
   ]
  },
  {
   "cell_type": "code",
   "execution_count": null,
   "metadata": {
    "executionInfo": {
     "elapsed": 8,
     "status": "aborted",
     "timestamp": 1642942898172,
     "user": {
      "displayName": "Victor Machado Gonzaga",
      "photoUrl": "https://lh3.googleusercontent.com/a/default-user=s64",
      "userId": "14128796530531354520"
     },
     "user_tz": 180
    },
    "id": "HarXHTba4Zsl"
   },
   "outputs": [],
   "source": [
    "df_results.sort_values(by='acc', ascending=False)[df_results.fold==3].head(50)"
   ]
  },
  {
   "cell_type": "code",
   "execution_count": null,
   "metadata": {
    "executionInfo": {
     "elapsed": 8,
     "status": "aborted",
     "timestamp": 1642942898172,
     "user": {
      "displayName": "Victor Machado Gonzaga",
      "photoUrl": "https://lh3.googleusercontent.com/a/default-user=s64",
      "userId": "14128796530531354520"
     },
     "user_tz": 180
    },
    "id": "8ujePTO04d-s"
   },
   "outputs": [],
   "source": [
    "df_results.sort_values(by='acc', ascending=False)[df_results.fold==4].head(50)"
   ]
  },
  {
   "cell_type": "code",
   "execution_count": null,
   "metadata": {
    "executionInfo": {
     "elapsed": 9,
     "status": "aborted",
     "timestamp": 1642942898173,
     "user": {
      "displayName": "Victor Machado Gonzaga",
      "photoUrl": "https://lh3.googleusercontent.com/a/default-user=s64",
      "userId": "14128796530531354520"
     },
     "user_tz": 180
    },
    "id": "ow0bl7ho3CfX"
   },
   "outputs": [],
   "source": [
    "sorted(df_results.to_numpy().tolist(), reverse=True, key=lambda a: a[3])"
   ]
  },
  {
   "cell_type": "code",
   "execution_count": null,
   "metadata": {
    "executionInfo": {
     "elapsed": 9,
     "status": "aborted",
     "timestamp": 1642942898173,
     "user": {
      "displayName": "Victor Machado Gonzaga",
      "photoUrl": "https://lh3.googleusercontent.com/a/default-user=s64",
      "userId": "14128796530531354520"
     },
     "user_tz": 180
    },
    "id": "sAhJ6h_C3Cp_",
    "scrolled": true
   },
   "outputs": [],
   "source": [
    "df_results.to_excel(f'{dataset}_fusion_models_late_seeded.xls')"
   ]
  }
 ],
 "metadata": {
  "accelerator": "GPU",
  "colab": {
   "collapsed_sections": [],
   "name": "Multimodal_Early_Fusion_Model_for_C4AI_DS_LateFusion.ipynb",
   "provenance": []
  },
  "kernelspec": {
   "display_name": "Python 3 (ipykernel)",
   "language": "python",
   "name": "python3"
  },
  "language_info": {
   "codemirror_mode": {
    "name": "ipython",
    "version": 3
   },
   "file_extension": ".py",
   "mimetype": "text/x-python",
   "name": "python",
   "nbconvert_exporter": "python",
   "pygments_lexer": "ipython3",
   "version": "3.10.4"
  },
  "widgets": {
   "application/vnd.jupyter.widget-state+json": {
    "16b0750aacd14b65bc4febe1065ed216": {
     "model_module": "@jupyter-widgets/controls",
     "model_module_version": "1.5.0",
     "model_name": "HTMLModel",
     "state": {
      "_dom_classes": [],
      "_model_module": "@jupyter-widgets/controls",
      "_model_module_version": "1.5.0",
      "_model_name": "HTMLModel",
      "_view_count": null,
      "_view_module": "@jupyter-widgets/controls",
      "_view_module_version": "1.5.0",
      "_view_name": "HTMLView",
      "description": "",
      "description_tooltip": null,
      "layout": "IPY_MODEL_5f1b5d9d19d04fac8f24ca1ec1166a34",
      "placeholder": "​",
      "style": "IPY_MODEL_e051ac2ec69f457cbef439ba6e54a8e9",
      "value": " 4/4 [00:05&lt;00:00,  1.67s/it]"
     }
    },
    "18aedde64d404e388b277c45eb95ddb0": {
     "model_module": "@jupyter-widgets/controls",
     "model_module_version": "1.5.0",
     "model_name": "DescriptionStyleModel",
     "state": {
      "_model_module": "@jupyter-widgets/controls",
      "_model_module_version": "1.5.0",
      "_model_name": "DescriptionStyleModel",
      "_view_count": null,
      "_view_module": "@jupyter-widgets/base",
      "_view_module_version": "1.2.0",
      "_view_name": "StyleView",
      "description_width": ""
     }
    },
    "2444f07cad0b467892415068796c6c90": {
     "model_module": "@jupyter-widgets/controls",
     "model_module_version": "1.5.0",
     "model_name": "DescriptionStyleModel",
     "state": {
      "_model_module": "@jupyter-widgets/controls",
      "_model_module_version": "1.5.0",
      "_model_name": "DescriptionStyleModel",
      "_view_count": null,
      "_view_module": "@jupyter-widgets/base",
      "_view_module_version": "1.2.0",
      "_view_name": "StyleView",
      "description_width": ""
     }
    },
    "2901f461104442018095374dac5e29c0": {
     "model_module": "@jupyter-widgets/controls",
     "model_module_version": "1.5.0",
     "model_name": "HTMLModel",
     "state": {
      "_dom_classes": [],
      "_model_module": "@jupyter-widgets/controls",
      "_model_module_version": "1.5.0",
      "_model_name": "HTMLModel",
      "_view_count": null,
      "_view_module": "@jupyter-widgets/controls",
      "_view_module_version": "1.5.0",
      "_view_name": "HTMLView",
      "description": "",
      "description_tooltip": null,
      "layout": "IPY_MODEL_92f942e3ba094db49a0994bf38344b5f",
      "placeholder": "​",
      "style": "IPY_MODEL_2444f07cad0b467892415068796c6c90",
      "value": "100%"
     }
    },
    "2adef9bf0d3346fdbb87b203052b436b": {
     "model_module": "@jupyter-widgets/controls",
     "model_module_version": "1.5.0",
     "model_name": "ProgressStyleModel",
     "state": {
      "_model_module": "@jupyter-widgets/controls",
      "_model_module_version": "1.5.0",
      "_model_name": "ProgressStyleModel",
      "_view_count": null,
      "_view_module": "@jupyter-widgets/base",
      "_view_module_version": "1.2.0",
      "_view_name": "StyleView",
      "bar_color": null,
      "description_width": ""
     }
    },
    "5f1b5d9d19d04fac8f24ca1ec1166a34": {
     "model_module": "@jupyter-widgets/base",
     "model_module_version": "1.2.0",
     "model_name": "LayoutModel",
     "state": {
      "_model_module": "@jupyter-widgets/base",
      "_model_module_version": "1.2.0",
      "_model_name": "LayoutModel",
      "_view_count": null,
      "_view_module": "@jupyter-widgets/base",
      "_view_module_version": "1.2.0",
      "_view_name": "LayoutView",
      "align_content": null,
      "align_items": null,
      "align_self": null,
      "border": null,
      "bottom": null,
      "display": null,
      "flex": null,
      "flex_flow": null,
      "grid_area": null,
      "grid_auto_columns": null,
      "grid_auto_flow": null,
      "grid_auto_rows": null,
      "grid_column": null,
      "grid_gap": null,
      "grid_row": null,
      "grid_template_areas": null,
      "grid_template_columns": null,
      "grid_template_rows": null,
      "height": null,
      "justify_content": null,
      "justify_items": null,
      "left": null,
      "margin": null,
      "max_height": null,
      "max_width": null,
      "min_height": null,
      "min_width": null,
      "object_fit": null,
      "object_position": null,
      "order": null,
      "overflow": null,
      "overflow_x": null,
      "overflow_y": null,
      "padding": null,
      "right": null,
      "top": null,
      "visibility": null,
      "width": null
     }
    },
    "626875e670fa4357ba83cb997bfd3483": {
     "model_module": "@jupyter-widgets/controls",
     "model_module_version": "1.5.0",
     "model_name": "HBoxModel",
     "state": {
      "_dom_classes": [],
      "_model_module": "@jupyter-widgets/controls",
      "_model_module_version": "1.5.0",
      "_model_name": "HBoxModel",
      "_view_count": null,
      "_view_module": "@jupyter-widgets/controls",
      "_view_module_version": "1.5.0",
      "_view_name": "HBoxView",
      "box_style": "",
      "children": [
       "IPY_MODEL_2901f461104442018095374dac5e29c0",
       "IPY_MODEL_9b24db6cc27a4d4193cd4ad52d64457d",
       "IPY_MODEL_16b0750aacd14b65bc4febe1065ed216"
      ],
      "layout": "IPY_MODEL_e2276ea0b34f4b0198aa748346d04895"
     }
    },
    "626fd4a1d2a741d4b69c400449a33ff3": {
     "model_module": "@jupyter-widgets/controls",
     "model_module_version": "1.5.0",
     "model_name": "FloatProgressModel",
     "state": {
      "_dom_classes": [],
      "_model_module": "@jupyter-widgets/controls",
      "_model_module_version": "1.5.0",
      "_model_name": "FloatProgressModel",
      "_view_count": null,
      "_view_module": "@jupyter-widgets/controls",
      "_view_module_version": "1.5.0",
      "_view_name": "ProgressView",
      "bar_style": "success",
      "description": "",
      "description_tooltip": null,
      "layout": "IPY_MODEL_6dc7cdd2dea14d77a192d336bc68d1a9",
      "max": 1,
      "min": 0,
      "orientation": "horizontal",
      "style": "IPY_MODEL_8409a6564cd7430291d38df436f20f2b",
      "value": 1
     }
    },
    "6dc7cdd2dea14d77a192d336bc68d1a9": {
     "model_module": "@jupyter-widgets/base",
     "model_module_version": "1.2.0",
     "model_name": "LayoutModel",
     "state": {
      "_model_module": "@jupyter-widgets/base",
      "_model_module_version": "1.2.0",
      "_model_name": "LayoutModel",
      "_view_count": null,
      "_view_module": "@jupyter-widgets/base",
      "_view_module_version": "1.2.0",
      "_view_name": "LayoutView",
      "align_content": null,
      "align_items": null,
      "align_self": null,
      "border": null,
      "bottom": null,
      "display": null,
      "flex": null,
      "flex_flow": null,
      "grid_area": null,
      "grid_auto_columns": null,
      "grid_auto_flow": null,
      "grid_auto_rows": null,
      "grid_column": null,
      "grid_gap": null,
      "grid_row": null,
      "grid_template_areas": null,
      "grid_template_columns": null,
      "grid_template_rows": null,
      "height": null,
      "justify_content": null,
      "justify_items": null,
      "left": null,
      "margin": null,
      "max_height": null,
      "max_width": null,
      "min_height": null,
      "min_width": null,
      "object_fit": null,
      "object_position": null,
      "order": null,
      "overflow": null,
      "overflow_x": null,
      "overflow_y": null,
      "padding": null,
      "right": null,
      "top": null,
      "visibility": null,
      "width": null
     }
    },
    "7a2e722dff1a41269953b0b36fa48896": {
     "model_module": "@jupyter-widgets/controls",
     "model_module_version": "1.5.0",
     "model_name": "HTMLModel",
     "state": {
      "_dom_classes": [],
      "_model_module": "@jupyter-widgets/controls",
      "_model_module_version": "1.5.0",
      "_model_name": "HTMLModel",
      "_view_count": null,
      "_view_module": "@jupyter-widgets/controls",
      "_view_module_version": "1.5.0",
      "_view_name": "HTMLView",
      "description": "",
      "description_tooltip": null,
      "layout": "IPY_MODEL_9630d54f81df4102b04741ac0aa7284a",
      "placeholder": "​",
      "style": "IPY_MODEL_e01575d67ab44423a1e899725b7cb14f",
      "value": "100%"
     }
    },
    "8409a6564cd7430291d38df436f20f2b": {
     "model_module": "@jupyter-widgets/controls",
     "model_module_version": "1.5.0",
     "model_name": "ProgressStyleModel",
     "state": {
      "_model_module": "@jupyter-widgets/controls",
      "_model_module_version": "1.5.0",
      "_model_name": "ProgressStyleModel",
      "_view_count": null,
      "_view_module": "@jupyter-widgets/base",
      "_view_module_version": "1.2.0",
      "_view_name": "StyleView",
      "bar_color": null,
      "description_width": ""
     }
    },
    "92f942e3ba094db49a0994bf38344b5f": {
     "model_module": "@jupyter-widgets/base",
     "model_module_version": "1.2.0",
     "model_name": "LayoutModel",
     "state": {
      "_model_module": "@jupyter-widgets/base",
      "_model_module_version": "1.2.0",
      "_model_name": "LayoutModel",
      "_view_count": null,
      "_view_module": "@jupyter-widgets/base",
      "_view_module_version": "1.2.0",
      "_view_name": "LayoutView",
      "align_content": null,
      "align_items": null,
      "align_self": null,
      "border": null,
      "bottom": null,
      "display": null,
      "flex": null,
      "flex_flow": null,
      "grid_area": null,
      "grid_auto_columns": null,
      "grid_auto_flow": null,
      "grid_auto_rows": null,
      "grid_column": null,
      "grid_gap": null,
      "grid_row": null,
      "grid_template_areas": null,
      "grid_template_columns": null,
      "grid_template_rows": null,
      "height": null,
      "justify_content": null,
      "justify_items": null,
      "left": null,
      "margin": null,
      "max_height": null,
      "max_width": null,
      "min_height": null,
      "min_width": null,
      "object_fit": null,
      "object_position": null,
      "order": null,
      "overflow": null,
      "overflow_x": null,
      "overflow_y": null,
      "padding": null,
      "right": null,
      "top": null,
      "visibility": null,
      "width": null
     }
    },
    "9630d54f81df4102b04741ac0aa7284a": {
     "model_module": "@jupyter-widgets/base",
     "model_module_version": "1.2.0",
     "model_name": "LayoutModel",
     "state": {
      "_model_module": "@jupyter-widgets/base",
      "_model_module_version": "1.2.0",
      "_model_name": "LayoutModel",
      "_view_count": null,
      "_view_module": "@jupyter-widgets/base",
      "_view_module_version": "1.2.0",
      "_view_name": "LayoutView",
      "align_content": null,
      "align_items": null,
      "align_self": null,
      "border": null,
      "bottom": null,
      "display": null,
      "flex": null,
      "flex_flow": null,
      "grid_area": null,
      "grid_auto_columns": null,
      "grid_auto_flow": null,
      "grid_auto_rows": null,
      "grid_column": null,
      "grid_gap": null,
      "grid_row": null,
      "grid_template_areas": null,
      "grid_template_columns": null,
      "grid_template_rows": null,
      "height": null,
      "justify_content": null,
      "justify_items": null,
      "left": null,
      "margin": null,
      "max_height": null,
      "max_width": null,
      "min_height": null,
      "min_width": null,
      "object_fit": null,
      "object_position": null,
      "order": null,
      "overflow": null,
      "overflow_x": null,
      "overflow_y": null,
      "padding": null,
      "right": null,
      "top": null,
      "visibility": null,
      "width": null
     }
    },
    "9b24db6cc27a4d4193cd4ad52d64457d": {
     "model_module": "@jupyter-widgets/controls",
     "model_module_version": "1.5.0",
     "model_name": "FloatProgressModel",
     "state": {
      "_dom_classes": [],
      "_model_module": "@jupyter-widgets/controls",
      "_model_module_version": "1.5.0",
      "_model_name": "FloatProgressModel",
      "_view_count": null,
      "_view_module": "@jupyter-widgets/controls",
      "_view_module_version": "1.5.0",
      "_view_name": "ProgressView",
      "bar_style": "success",
      "description": "",
      "description_tooltip": null,
      "layout": "IPY_MODEL_cb4a00ee0656469c8768036b4f71f62f",
      "max": 4,
      "min": 0,
      "orientation": "horizontal",
      "style": "IPY_MODEL_2adef9bf0d3346fdbb87b203052b436b",
      "value": 4
     }
    },
    "9d51fbef86a44429ad4dfb31e222ad7f": {
     "model_module": "@jupyter-widgets/controls",
     "model_module_version": "1.5.0",
     "model_name": "HBoxModel",
     "state": {
      "_dom_classes": [],
      "_model_module": "@jupyter-widgets/controls",
      "_model_module_version": "1.5.0",
      "_model_name": "HBoxModel",
      "_view_count": null,
      "_view_module": "@jupyter-widgets/controls",
      "_view_module_version": "1.5.0",
      "_view_name": "HBoxView",
      "box_style": "",
      "children": [
       "IPY_MODEL_7a2e722dff1a41269953b0b36fa48896",
       "IPY_MODEL_626fd4a1d2a741d4b69c400449a33ff3",
       "IPY_MODEL_b141325b94eb473289191556b56cf31c"
      ],
      "layout": "IPY_MODEL_d20294a22fa348cfa38342ada01e358f"
     }
    },
    "b141325b94eb473289191556b56cf31c": {
     "model_module": "@jupyter-widgets/controls",
     "model_module_version": "1.5.0",
     "model_name": "HTMLModel",
     "state": {
      "_dom_classes": [],
      "_model_module": "@jupyter-widgets/controls",
      "_model_module_version": "1.5.0",
      "_model_name": "HTMLModel",
      "_view_count": null,
      "_view_module": "@jupyter-widgets/controls",
      "_view_module_version": "1.5.0",
      "_view_name": "HTMLView",
      "description": "",
      "description_tooltip": null,
      "layout": "IPY_MODEL_f7fec05a0e094b99854f3d383006fc67",
      "placeholder": "​",
      "style": "IPY_MODEL_18aedde64d404e388b277c45eb95ddb0",
      "value": " 1/1 [01:03&lt;00:00, 63.13s/it]"
     }
    },
    "cb4a00ee0656469c8768036b4f71f62f": {
     "model_module": "@jupyter-widgets/base",
     "model_module_version": "1.2.0",
     "model_name": "LayoutModel",
     "state": {
      "_model_module": "@jupyter-widgets/base",
      "_model_module_version": "1.2.0",
      "_model_name": "LayoutModel",
      "_view_count": null,
      "_view_module": "@jupyter-widgets/base",
      "_view_module_version": "1.2.0",
      "_view_name": "LayoutView",
      "align_content": null,
      "align_items": null,
      "align_self": null,
      "border": null,
      "bottom": null,
      "display": null,
      "flex": null,
      "flex_flow": null,
      "grid_area": null,
      "grid_auto_columns": null,
      "grid_auto_flow": null,
      "grid_auto_rows": null,
      "grid_column": null,
      "grid_gap": null,
      "grid_row": null,
      "grid_template_areas": null,
      "grid_template_columns": null,
      "grid_template_rows": null,
      "height": null,
      "justify_content": null,
      "justify_items": null,
      "left": null,
      "margin": null,
      "max_height": null,
      "max_width": null,
      "min_height": null,
      "min_width": null,
      "object_fit": null,
      "object_position": null,
      "order": null,
      "overflow": null,
      "overflow_x": null,
      "overflow_y": null,
      "padding": null,
      "right": null,
      "top": null,
      "visibility": null,
      "width": null
     }
    },
    "d20294a22fa348cfa38342ada01e358f": {
     "model_module": "@jupyter-widgets/base",
     "model_module_version": "1.2.0",
     "model_name": "LayoutModel",
     "state": {
      "_model_module": "@jupyter-widgets/base",
      "_model_module_version": "1.2.0",
      "_model_name": "LayoutModel",
      "_view_count": null,
      "_view_module": "@jupyter-widgets/base",
      "_view_module_version": "1.2.0",
      "_view_name": "LayoutView",
      "align_content": null,
      "align_items": null,
      "align_self": null,
      "border": null,
      "bottom": null,
      "display": null,
      "flex": null,
      "flex_flow": null,
      "grid_area": null,
      "grid_auto_columns": null,
      "grid_auto_flow": null,
      "grid_auto_rows": null,
      "grid_column": null,
      "grid_gap": null,
      "grid_row": null,
      "grid_template_areas": null,
      "grid_template_columns": null,
      "grid_template_rows": null,
      "height": null,
      "justify_content": null,
      "justify_items": null,
      "left": null,
      "margin": null,
      "max_height": null,
      "max_width": null,
      "min_height": null,
      "min_width": null,
      "object_fit": null,
      "object_position": null,
      "order": null,
      "overflow": null,
      "overflow_x": null,
      "overflow_y": null,
      "padding": null,
      "right": null,
      "top": null,
      "visibility": null,
      "width": null
     }
    },
    "e01575d67ab44423a1e899725b7cb14f": {
     "model_module": "@jupyter-widgets/controls",
     "model_module_version": "1.5.0",
     "model_name": "DescriptionStyleModel",
     "state": {
      "_model_module": "@jupyter-widgets/controls",
      "_model_module_version": "1.5.0",
      "_model_name": "DescriptionStyleModel",
      "_view_count": null,
      "_view_module": "@jupyter-widgets/base",
      "_view_module_version": "1.2.0",
      "_view_name": "StyleView",
      "description_width": ""
     }
    },
    "e051ac2ec69f457cbef439ba6e54a8e9": {
     "model_module": "@jupyter-widgets/controls",
     "model_module_version": "1.5.0",
     "model_name": "DescriptionStyleModel",
     "state": {
      "_model_module": "@jupyter-widgets/controls",
      "_model_module_version": "1.5.0",
      "_model_name": "DescriptionStyleModel",
      "_view_count": null,
      "_view_module": "@jupyter-widgets/base",
      "_view_module_version": "1.2.0",
      "_view_name": "StyleView",
      "description_width": ""
     }
    },
    "e2276ea0b34f4b0198aa748346d04895": {
     "model_module": "@jupyter-widgets/base",
     "model_module_version": "1.2.0",
     "model_name": "LayoutModel",
     "state": {
      "_model_module": "@jupyter-widgets/base",
      "_model_module_version": "1.2.0",
      "_model_name": "LayoutModel",
      "_view_count": null,
      "_view_module": "@jupyter-widgets/base",
      "_view_module_version": "1.2.0",
      "_view_name": "LayoutView",
      "align_content": null,
      "align_items": null,
      "align_self": null,
      "border": null,
      "bottom": null,
      "display": null,
      "flex": null,
      "flex_flow": null,
      "grid_area": null,
      "grid_auto_columns": null,
      "grid_auto_flow": null,
      "grid_auto_rows": null,
      "grid_column": null,
      "grid_gap": null,
      "grid_row": null,
      "grid_template_areas": null,
      "grid_template_columns": null,
      "grid_template_rows": null,
      "height": null,
      "justify_content": null,
      "justify_items": null,
      "left": null,
      "margin": null,
      "max_height": null,
      "max_width": null,
      "min_height": null,
      "min_width": null,
      "object_fit": null,
      "object_position": null,
      "order": null,
      "overflow": null,
      "overflow_x": null,
      "overflow_y": null,
      "padding": null,
      "right": null,
      "top": null,
      "visibility": null,
      "width": null
     }
    },
    "f7fec05a0e094b99854f3d383006fc67": {
     "model_module": "@jupyter-widgets/base",
     "model_module_version": "1.2.0",
     "model_name": "LayoutModel",
     "state": {
      "_model_module": "@jupyter-widgets/base",
      "_model_module_version": "1.2.0",
      "_model_name": "LayoutModel",
      "_view_count": null,
      "_view_module": "@jupyter-widgets/base",
      "_view_module_version": "1.2.0",
      "_view_name": "LayoutView",
      "align_content": null,
      "align_items": null,
      "align_self": null,
      "border": null,
      "bottom": null,
      "display": null,
      "flex": null,
      "flex_flow": null,
      "grid_area": null,
      "grid_auto_columns": null,
      "grid_auto_flow": null,
      "grid_auto_rows": null,
      "grid_column": null,
      "grid_gap": null,
      "grid_row": null,
      "grid_template_areas": null,
      "grid_template_columns": null,
      "grid_template_rows": null,
      "height": null,
      "justify_content": null,
      "justify_items": null,
      "left": null,
      "margin": null,
      "max_height": null,
      "max_width": null,
      "min_height": null,
      "min_width": null,
      "object_fit": null,
      "object_position": null,
      "order": null,
      "overflow": null,
      "overflow_x": null,
      "overflow_y": null,
      "padding": null,
      "right": null,
      "top": null,
      "visibility": null,
      "width": null
     }
    }
   }
  }
 },
 "nbformat": 4,
 "nbformat_minor": 1
}
